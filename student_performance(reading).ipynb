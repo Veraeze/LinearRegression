{
 "cells": [
  {
   "cell_type": "code",
   "execution_count": 33,
   "id": "33ffddba-3160-4bb1-88e7-bd5c2a63b133",
   "metadata": {},
   "outputs": [],
   "source": [
    "import numpy as np\n",
    "import pandas as pd\n",
    "import seaborn as sns\n",
    "import matplotlib.pyplot as plt\n",
    "\n",
    "%matplotlib inline"
   ]
  },
  {
   "cell_type": "code",
   "execution_count": 34,
   "id": "18d87614-997c-4a69-bcb4-9e54004d57e6",
   "metadata": {},
   "outputs": [],
   "source": [
    "students = pd.read_csv('datasets/exams.csv')"
   ]
  },
  {
   "cell_type": "code",
   "execution_count": 35,
   "id": "3856902f-461a-4538-b90b-ec5753b5012a",
   "metadata": {},
   "outputs": [
    {
     "data": {
      "text/plain": [
       "gender                         0\n",
       "race/ethnicity                 0\n",
       "parental level of education    0\n",
       "lunch                          0\n",
       "test preparation course        0\n",
       "math score                     0\n",
       "reading score                  0\n",
       "writing score                  0\n",
       "dtype: int64"
      ]
     },
     "execution_count": 35,
     "metadata": {},
     "output_type": "execute_result"
    }
   ],
   "source": [
    "students.isnull().sum()"
   ]
  },
  {
   "cell_type": "code",
   "execution_count": 36,
   "id": "b1e804e0-9064-4129-81b2-5317f7666f37",
   "metadata": {},
   "outputs": [
    {
     "data": {
      "text/plain": [
       "gender                         object\n",
       "race/ethnicity                 object\n",
       "parental level of education    object\n",
       "lunch                          object\n",
       "test preparation course        object\n",
       "math score                      int64\n",
       "reading score                   int64\n",
       "writing score                   int64\n",
       "dtype: object"
      ]
     },
     "execution_count": 36,
     "metadata": {},
     "output_type": "execute_result"
    }
   ],
   "source": [
    "students.dtypes"
   ]
  },
  {
   "cell_type": "code",
   "execution_count": 37,
   "id": "01e7429a-e354-4f72-a874-a3033a8d7da2",
   "metadata": {},
   "outputs": [],
   "source": [
    "X = students.drop(columns=[\"math score\", \"reading score\", \"writing score\"])\n",
    "y = students['reading score']"
   ]
  },
  {
   "cell_type": "code",
   "execution_count": 38,
   "id": "91413f3c-9edc-46ef-a7bc-013c82054c45",
   "metadata": {},
   "outputs": [],
   "source": [
    "categorical_feat = [\"gender\", \"race/ethnicity\", \"parental level of education\", \"lunch\", \"test preparation course\"]"
   ]
  },
  {
   "cell_type": "code",
   "execution_count": 39,
   "id": "54a066ad-182d-424e-ba1f-93e2399576a3",
   "metadata": {},
   "outputs": [],
   "source": [
    "from sklearn.preprocessing import LabelEncoder, OneHotEncoder\n",
    "from sklearn.compose import ColumnTransformer\n",
    "\n",
    "column_transformer = ColumnTransformer(\n",
    "    transformers=[('encoder', OneHotEncoder(drop='first'), categorical_feat)],\n",
    "    remainder='passthrough'\n",
    ")"
   ]
  },
  {
   "cell_type": "code",
   "execution_count": 40,
   "id": "ae5d477e-6003-4f0e-8f58-88440e29fb09",
   "metadata": {},
   "outputs": [],
   "source": [
    "from sklearn.model_selection import train_test_split\n",
    "\n",
    "X_train, X_test, y_train, y_test = train_test_split(X, y, test_size=0.2, random_state=42)"
   ]
  },
  {
   "cell_type": "code",
   "execution_count": 41,
   "id": "99e62e9e-ba2f-4ac2-a7a6-60ec600a004b",
   "metadata": {},
   "outputs": [],
   "source": [
    "from sklearn.pipeline import Pipeline\n",
    "from sklearn.linear_model import LinearRegression\n",
    "from sklearn.ensemble import RandomForestRegressor\n",
    "from sklearn.tree import DecisionTreeRegressor\n",
    "from sklearn.ensemble import GradientBoostingRegressor\n",
    "from sklearn.neighbors import KNeighborsRegressor\n",
    "\n",
    "models = {\n",
    "    \"Linear Regression\": LinearRegression(),\n",
    "    \"Random Forest\": RandomForestRegressor(),\n",
    "    \"Decision Tree\": DecisionTreeRegressor(random_state=42),\n",
    "    \"Gradient Boosting\": GradientBoostingRegressor(random_state=42),\n",
    "    \"KNN\": KNeighborsRegressor()\n",
    "}"
   ]
  },
  {
   "cell_type": "code",
   "execution_count": 42,
   "id": "e3303c5b-15de-4bd7-8e38-75773596cb46",
   "metadata": {},
   "outputs": [],
   "source": [
    "from sklearn.metrics import r2_score\n",
    "\n",
    "results = {}\n",
    "\n",
    "for name, model in models.items():\n",
    "    pipe = Pipeline(steps=[\n",
    "        ('preprocessor', column_transformer),\n",
    "        ('regressor', model)\n",
    "    ])\n",
    "    \n",
    "    pipe.fit(X_train, y_train)\n",
    "    y_pred = pipe.predict(X_test)\n",
    "    r2 = r2_score(y_test, y_pred)\n",
    "    results[name] = r2"
   ]
  },
  {
   "cell_type": "code",
   "execution_count": 43,
   "id": "40ba7271-4f6a-40bc-83b8-94e9b5e43a7f",
   "metadata": {},
   "outputs": [
    {
     "name": "stdout",
     "output_type": "stream",
     "text": [
      "Linear Regression R² Score: 0.1890\n",
      "Random Forest R² Score: 0.0612\n",
      "Decision Tree R² Score: -0.0269\n",
      "Gradient Boosting R² Score: 0.1280\n",
      "KNN R² Score: 0.0460\n"
     ]
    }
   ],
   "source": [
    "for name, r2 in results.items():\n",
    "    print(f\"{name} R² Score: {r2:.4f}\")"
   ]
  },
  {
   "cell_type": "code",
   "execution_count": null,
   "id": "9920f74a-f1a3-4fb6-aea1-cd58222222da",
   "metadata": {},
   "outputs": [],
   "source": []
  },
  {
   "cell_type": "code",
   "execution_count": null,
   "id": "871f0093-59c5-4e44-af69-55cdd1e5b686",
   "metadata": {},
   "outputs": [],
   "source": []
  }
 ],
 "metadata": {
  "kernelspec": {
   "display_name": "Python 3 (ipykernel)",
   "language": "python",
   "name": "python3"
  },
  "language_info": {
   "codemirror_mode": {
    "name": "ipython",
    "version": 3
   },
   "file_extension": ".py",
   "mimetype": "text/x-python",
   "name": "python",
   "nbconvert_exporter": "python",
   "pygments_lexer": "ipython3",
   "version": "3.11.9"
  }
 },
 "nbformat": 4,
 "nbformat_minor": 5
}
